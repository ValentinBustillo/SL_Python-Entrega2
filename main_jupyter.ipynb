{
 "cells": [
  {
   "cell_type": "markdown",
   "metadata": {},
   "source": [
    "Enunciado:\n",
    "\n",
    "Un club de hockey posee las estadísticas de todxs sus jugadorxs de la última\n",
    "temporada jugada del torneo de hockey mixto. Poseen una lista con los nombres, otra\n",
    "con los goles a favor, otra con los goles evitados y la última con las asistencias\n",
    "realizadas. El club está por otorgar los premios de cierre de temporada y necesita:"
   ]
  },
  {
   "cell_type": "markdown",
   "metadata": {},
   "source": [
    "Sub inciso 1 - Generar una estructura todas las estadísticas asociadas a cada jugador o\n",
    " jugadora."
   ]
  },
  {
   "cell_type": "markdown",
   "metadata": {},
   "source": [
    "Primero paso el string con los nombres de los jugadores a una lista, "
   ]
  },
  {
   "cell_type": "code",
   "execution_count": 10,
   "metadata": {},
   "outputs": [],
   "source": [
    "import info\n",
    "from procesar_equipo import procesar_string\n",
    "\n",
    "\n",
    "nombres = procesar_string.acomodar_lista(info.names)\n"
   ]
  },
  {
   "cell_type": "markdown",
   "metadata": {},
   "source": [
    "Ahora genero una lista de diccionarios con la informacion de cada jugador."
   ]
  },
  {
   "cell_type": "code",
   "execution_count": 11,
   "metadata": {},
   "outputs": [
    {
     "name": "stdout",
     "output_type": "stream",
     "text": [
      "[{'nombre': 'Agustin', 'goles': 0, 'goles evitados': 0, 'asistencias': 0}, {'nombre': 'Yanina', 'goles': 10, 'goles evitados': 2, 'asistencias': 5}, {'nombre': 'Andres', 'goles': 4, 'goles evitados': 0, 'asistencias': 1}, {'nombre': 'Ariadna', 'goles': 0, 'goles evitados': 0, 'asistencias': 0}, {'nombre': 'Bautista', 'goles': 5, 'goles evitados': 5, 'asistencias': 5}, {'nombre': 'Carolina', 'goles': 14, 'goles evitados': 2, 'asistencias': 2}, {'nombre': 'Cesar', 'goles': 0, 'goles evitados': 0, 'asistencias': 0}, {'nombre': 'David', 'goles': 0, 'goles evitados': 0, 'asistencias': 0}, {'nombre': 'Diego', 'goles': 7, 'goles evitados': 1, 'asistencias': 1}, {'nombre': 'Dolores', 'goles': 2, 'goles evitados': 2, 'asistencias': 2}, {'nombre': 'Dylan', 'goles': 1, 'goles evitados': 0, 'asistencias': 1}, {'nombre': 'Eliana', 'goles': 1, 'goles evitados': 5, 'asistencias': 5}, {'nombre': 'Emanuel', 'goles': 1, 'goles evitados': 5, 'asistencias': 5}, {'nombre': 'Fabián', 'goles': 5, 'goles evitados': 0, 'asistencias': 0}, {'nombre': 'Noelia', 'goles': 6, 'goles evitados': 1, 'asistencias': 1}, {'nombre': 'Francsica', 'goles': 1, 'goles evitados': 0, 'asistencias': 0}, {'nombre': 'Federic', 'goles': 1, 'goles evitados': 2, 'asistencias': 2}, {'nombre': 'Fernanda', 'goles': 2, 'goles evitados': 3, 'asistencias': 3}, {'nombre': 'Gonzalo', 'goles': 0, 'goles evitados': 0, 'asistencias': 1}, {'nombre': 'Nancy', 'goles': 11, 'goles evitados': 0, 'asistencias': 0}]\n"
     ]
    }
   ],
   "source": [
    "from procesar_equipo import sub_inciso1\n",
    "\n",
    "lista = sub_inciso1.generar_estructura(nombres, info.goals, info.goals_avoided,info.assists)\n",
    "\n",
    "print(lista)"
   ]
  },
  {
   "cell_type": "markdown",
   "metadata": {},
   "source": [
    "Sub inciso 2 - Conocer el nombre y la cantidad de goles del goleador o goleadora."
   ]
  },
  {
   "cell_type": "markdown",
   "metadata": {},
   "source": [
    "Se fija quien es el goleador del equipo."
   ]
  },
  {
   "cell_type": "code",
   "execution_count": 12,
   "metadata": {},
   "outputs": [
    {
     "name": "stdout",
     "output_type": "stream",
     "text": [
      "El goleador del equipo es {'nombre': 'Carolina', 'goles': 14}\n"
     ]
    }
   ],
   "source": [
    "from procesar_equipo import sub_inciso2\n",
    "\n",
    "goleador = sub_inciso2.conocer_goleador(lista)\n",
    "print(f'El goleador del equipo es {goleador}')"
   ]
  },
  {
   "cell_type": "markdown",
   "metadata": {},
   "source": [
    "Sub inciso 3 - Conocer el nombre del jugador o jugadora más influyente, esto se consigue\n",
    " sumando goles a favor, goles evitados y cantidad de asistencias. La particularidad\n",
    " es que los goles a favor, evitados y las asistencias NO valen lo mismo (es un\n",
    " promedio ponderado):\n",
    "\n",
    "Goles a favor  -> 1.5\n",
    "\n",
    "Goles evitados -> 1.25\n",
    "\n",
    "Asistencias    -> 1"
   ]
  },
  {
   "cell_type": "markdown",
   "metadata": {},
   "source": [
    "Calcula quien es el jugador influyente en base a la lista de valores dada."
   ]
  },
  {
   "cell_type": "code",
   "execution_count": 13,
   "metadata": {},
   "outputs": [
    {
     "name": "stdout",
     "output_type": "stream",
     "text": [
      "el jugador influyente es {'nombre': 'Nancy', 'porcentaje': 16.5}\n"
     ]
    }
   ],
   "source": [
    "from procesar_equipo import sub_inciso3\n",
    "\n",
    "influyente = sub_inciso3.conocer_jugador_influyente(lista)\n",
    "\n",
    "print(f'El jugador influyente es {influyente}')"
   ]
  },
  {
   "cell_type": "markdown",
   "metadata": {},
   "source": [
    "Sub inciso 4 - Conocer el promedio de goles por partido del equipo en general. Dato: Se jugaron\n",
    " 25 partidos en la temporada."
   ]
  },
  {
   "cell_type": "markdown",
   "metadata": {},
   "source": [
    "Calcula el promedio de goles por partido del equipo"
   ]
  },
  {
   "cell_type": "code",
   "execution_count": 14,
   "metadata": {},
   "outputs": [
    {
     "name": "stdout",
     "output_type": "stream",
     "text": [
      "El promedio de goles por partido del equipo es 2.84\n"
     ]
    }
   ],
   "source": [
    "from procesar_equipo import sub_inciso4\n",
    "\n",
    "promedio_equipo = sub_inciso4.prom_goles_equipo(info.goals)\n",
    "\n",
    "print(f'El promedio de goles por partido del equipo es {promedio_equipo}')"
   ]
  },
  {
   "cell_type": "markdown",
   "metadata": {},
   "source": [
    "Sub inciso 5 - Conocer el promedio de goles por partido del goleador o goleadora. Dato: Se\n",
    " jugaron 25 partidos en la temporada"
   ]
  },
  {
   "cell_type": "markdown",
   "metadata": {},
   "source": [
    "Calcula el promedio de goles por partido del goleador"
   ]
  },
  {
   "cell_type": "code",
   "execution_count": 15,
   "metadata": {},
   "outputs": [
    {
     "name": "stdout",
     "output_type": "stream",
     "text": [
      "el promedio de goles por partido del goleador del equipo es 0.56\n"
     ]
    }
   ],
   "source": [
    "from procesar_equipo import sub_inciso5\n",
    "\n",
    "promedio_goleador = sub_inciso5.promedio_goles(goleador)\n",
    "\n",
    "print(f'El promedio de goles por partido del goleador del equipo es {promedio_goleador}')"
   ]
  }
 ],
 "metadata": {
  "kernelspec": {
   "display_name": "venv",
   "language": "python",
   "name": "python3"
  },
  "language_info": {
   "codemirror_mode": {
    "name": "ipython",
    "version": 3
   },
   "file_extension": ".py",
   "mimetype": "text/x-python",
   "name": "python",
   "nbconvert_exporter": "python",
   "pygments_lexer": "ipython3",
   "version": "3.11.7"
  }
 },
 "nbformat": 4,
 "nbformat_minor": 2
}
